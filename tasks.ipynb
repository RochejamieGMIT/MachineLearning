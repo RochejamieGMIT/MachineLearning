{
 "cells": [
  {
   "cell_type": "markdown",
   "metadata": {},
   "source": [
    "# Tasks\n",
    "\n",
    "Machine Learning and Statistics\n",
    "\n",
    "winter 23/24\n",
    "\n",
    "Jamie Roche\n",
    "***"
   ]
  },
  {
   "cell_type": "code",
   "execution_count": 1,
   "metadata": {},
   "outputs": [],
   "source": [
    "import pandas as pd\n",
    "import scipy.stats as ss\n",
    "import matplotlib.pyplot as plt\n",
    "import numpy as np\n",
    "import random\n",
    "import sklearn as sk "
   ]
  },
  {
   "cell_type": "markdown",
   "metadata": {},
   "source": [
    "### Task 1\n",
    "\n",
    " > Square roots are difficult to calculate. In Python, you typically\n",
    "use the power operator (a double asterisk) or a package such as `math`. In this task,1 you should write a function `sqrt(x)` to approximate the square root of a floating point number x without using the power operator or a package\n",
    ">\n",
    "> Rather, you should use the Newton’s method. Start with initial guess for the square root called `z0`. You then repeatedly improve it using the following formula, until the difference between\n",
    "some previous guess zi and the next zi+1 is less than some threshold, say `0.01`.\n",
    "\n",
    "\n",
    "\n",
    "$$ z_{i+1} = z_i - \\frac{z_i × z_i-x}{2z_i}$$\n",
    "\n",
    "~~ https://csrgxtu.github.io/2015/03/20/Writing-Mathematic-Fomulars-in-Markdown/\n",
    "\n",
    "~~ https://docs.document360.com/docs/how-to-center-align-the-text-in-markdown"
   ]
  },
  {
   "cell_type": "code",
   "execution_count": 2,
   "metadata": {},
   "outputs": [],
   "source": [
    "def sqrt(x):\n",
    "    # inital guess\n",
    "    z = x/4.0\n",
    "\n",
    "    # loop until reasonable accurate guess is achieved \n",
    "    \n",
    "    while ((z*z-x)>0.000000001):\n",
    "        \n",
    "        z = z - (((z*z)-x)/(2*z))\n",
    "\n",
    "    return z"
   ]
  },
  {
   "cell_type": "code",
   "execution_count": 3,
   "metadata": {},
   "outputs": [
    {
     "data": {
      "text/plain": [
       "9.486832980511155"
      ]
     },
     "execution_count": 3,
     "metadata": {},
     "output_type": "execute_result"
    }
   ],
   "source": [
    "# Test Function \n",
    "num = 90\n",
    "y = sqrt(num)\n",
    "y"
   ]
  },
  {
   "cell_type": "code",
   "execution_count": 4,
   "metadata": {},
   "outputs": [
    {
     "data": {
      "text/plain": [
       "6.016520615048648e-12"
      ]
     },
     "execution_count": 4,
     "metadata": {},
     "output_type": "execute_result"
    }
   ],
   "source": [
    "# compare differnece between python and newtons \n",
    "\n",
    "abs((num**0.5)-y)\n"
   ]
  },
  {
   "cell_type": "markdown",
   "metadata": {},
   "source": [
    "End Task 1 - Improve answer later "
   ]
  },
  {
   "cell_type": "markdown",
   "metadata": {},
   "source": [
    "# Task 2\n",
    "\n",
    ">Consider the below contingency table based on a survey asking respondents whether they prefer coffee or tea and whether they prefer plain or chocolate biscuits. \n",
    ">\n",
    ">Use scipy.stats to perform a chi-squared test to see whether there is any evidence of an asociation between drink preference and biscuit preference in this instance.\n",
    "\n",
    "\n",
    "| Drink   | Chocolate | Plain |\n",
    "|---------|-----------|-------|\n",
    "| Coffee  | 43        | 57    |\n",
    "| Tea     | 56        | 45    |\n",
    "\n",
    "\n",
    "Formula for the Chi-squared test:\n",
    "\n",
    "$$ x^2 = \\Sigma \\frac{(O_i - E_i)^2}{E_i}$$\n"
   ]
  },
  {
   "cell_type": "code",
   "execution_count": 5,
   "metadata": {},
   "outputs": [],
   "source": [
    "# people who like Coffee and Choclate Biscuits\n",
    "countCChoc = 43\n",
    "coffee_choc = [['Coffee', 'Chocolate']] * countCChoc\n",
    "\n",
    "# People who like Tea and Chocolaye \n",
    "countTChoc = 56\n",
    "tea_choc = [['Tea', 'Chocolate']] * countTChoc\n",
    "\n",
    "# People who like Coffe and Plain\n",
    "countCPlain = 57\n",
    "Coffee_plain = [['Coffee', 'Plain']] * countCPlain\n",
    "\n",
    "# People who like Tea and Plain\n",
    "CountTplain = 45\n",
    "tea_plain = [['Tea', 'Plain']] * CountTplain\n"
   ]
  },
  {
   "cell_type": "code",
   "execution_count": 6,
   "metadata": {},
   "outputs": [
    {
     "data": {
      "text/plain": [
       "[['Tea', 'Plain'],\n",
       " ['Coffee', 'Chocolate'],\n",
       " ['Tea', 'Chocolate'],\n",
       " ['Tea', 'Chocolate'],\n",
       " ['Tea', 'Chocolate'],\n",
       " ['Coffee', 'Chocolate'],\n",
       " ['Coffee', 'Chocolate'],\n",
       " ['Coffee', 'Chocolate'],\n",
       " ['Tea', 'Chocolate'],\n",
       " ['Tea', 'Chocolate'],\n",
       " ['Tea', 'Chocolate'],\n",
       " ['Coffee', 'Plain'],\n",
       " ['Tea', 'Plain'],\n",
       " ['Coffee', 'Plain'],\n",
       " ['Tea', 'Chocolate'],\n",
       " ['Coffee', 'Plain'],\n",
       " ['Tea', 'Chocolate'],\n",
       " ['Coffee', 'Chocolate'],\n",
       " ['Coffee', 'Chocolate'],\n",
       " ['Coffee', 'Plain'],\n",
       " ['Coffee', 'Plain'],\n",
       " ['Tea', 'Plain'],\n",
       " ['Coffee', 'Plain'],\n",
       " ['Tea', 'Plain'],\n",
       " ['Coffee', 'Plain'],\n",
       " ['Tea', 'Chocolate'],\n",
       " ['Coffee', 'Plain'],\n",
       " ['Tea', 'Chocolate'],\n",
       " ['Tea', 'Plain'],\n",
       " ['Tea', 'Chocolate'],\n",
       " ['Coffee', 'Plain'],\n",
       " ['Tea', 'Plain'],\n",
       " ['Coffee', 'Plain'],\n",
       " ['Tea', 'Chocolate'],\n",
       " ['Coffee', 'Chocolate'],\n",
       " ['Tea', 'Chocolate'],\n",
       " ['Tea', 'Chocolate'],\n",
       " ['Coffee', 'Chocolate'],\n",
       " ['Coffee', 'Plain'],\n",
       " ['Tea', 'Plain'],\n",
       " ['Coffee', 'Plain'],\n",
       " ['Coffee', 'Plain'],\n",
       " ['Tea', 'Chocolate'],\n",
       " ['Tea', 'Plain'],\n",
       " ['Coffee', 'Chocolate'],\n",
       " ['Tea', 'Plain'],\n",
       " ['Tea', 'Chocolate'],\n",
       " ['Tea', 'Chocolate'],\n",
       " ['Coffee', 'Plain'],\n",
       " ['Coffee', 'Chocolate'],\n",
       " ['Tea', 'Chocolate'],\n",
       " ['Coffee', 'Chocolate'],\n",
       " ['Tea', 'Plain'],\n",
       " ['Coffee', 'Plain'],\n",
       " ['Tea', 'Plain'],\n",
       " ['Coffee', 'Plain'],\n",
       " ['Tea', 'Plain'],\n",
       " ['Tea', 'Chocolate'],\n",
       " ['Tea', 'Plain'],\n",
       " ['Tea', 'Plain'],\n",
       " ['Tea', 'Chocolate'],\n",
       " ['Coffee', 'Plain'],\n",
       " ['Coffee', 'Chocolate'],\n",
       " ['Coffee', 'Plain'],\n",
       " ['Tea', 'Chocolate'],\n",
       " ['Coffee', 'Chocolate'],\n",
       " ['Coffee', 'Plain'],\n",
       " ['Tea', 'Plain'],\n",
       " ['Tea', 'Chocolate'],\n",
       " ['Tea', 'Plain'],\n",
       " ['Tea', 'Chocolate'],\n",
       " ['Coffee', 'Chocolate'],\n",
       " ['Tea', 'Chocolate'],\n",
       " ['Coffee', 'Plain'],\n",
       " ['Coffee', 'Chocolate'],\n",
       " ['Tea', 'Chocolate'],\n",
       " ['Coffee', 'Chocolate'],\n",
       " ['Coffee', 'Plain'],\n",
       " ['Coffee', 'Chocolate'],\n",
       " ['Tea', 'Plain'],\n",
       " ['Coffee', 'Plain'],\n",
       " ['Tea', 'Plain'],\n",
       " ['Tea', 'Plain'],\n",
       " ['Coffee', 'Plain'],\n",
       " ['Coffee', 'Plain'],\n",
       " ['Coffee', 'Plain'],\n",
       " ['Tea', 'Chocolate'],\n",
       " ['Coffee', 'Plain'],\n",
       " ['Tea', 'Plain'],\n",
       " ['Tea', 'Plain'],\n",
       " ['Coffee', 'Plain'],\n",
       " ['Tea', 'Plain'],\n",
       " ['Tea', 'Plain'],\n",
       " ['Coffee', 'Plain'],\n",
       " ['Tea', 'Plain'],\n",
       " ['Tea', 'Chocolate'],\n",
       " ['Coffee', 'Plain'],\n",
       " ['Coffee', 'Chocolate'],\n",
       " ['Coffee', 'Plain'],\n",
       " ['Tea', 'Plain'],\n",
       " ['Coffee', 'Plain'],\n",
       " ['Tea', 'Plain'],\n",
       " ['Coffee', 'Plain'],\n",
       " ['Tea', 'Chocolate'],\n",
       " ['Tea', 'Chocolate'],\n",
       " ['Coffee', 'Plain'],\n",
       " ['Tea', 'Chocolate'],\n",
       " ['Tea', 'Chocolate'],\n",
       " ['Coffee', 'Chocolate'],\n",
       " ['Tea', 'Plain'],\n",
       " ['Tea', 'Plain'],\n",
       " ['Tea', 'Chocolate'],\n",
       " ['Coffee', 'Chocolate'],\n",
       " ['Coffee', 'Plain'],\n",
       " ['Tea', 'Plain'],\n",
       " ['Tea', 'Plain'],\n",
       " ['Coffee', 'Chocolate'],\n",
       " ['Coffee', 'Chocolate'],\n",
       " ['Coffee', 'Plain'],\n",
       " ['Coffee', 'Chocolate'],\n",
       " ['Coffee', 'Plain'],\n",
       " ['Coffee', 'Chocolate'],\n",
       " ['Tea', 'Chocolate'],\n",
       " ['Coffee', 'Chocolate'],\n",
       " ['Tea', 'Chocolate'],\n",
       " ['Coffee', 'Plain'],\n",
       " ['Coffee', 'Chocolate'],\n",
       " ['Coffee', 'Plain'],\n",
       " ['Tea', 'Chocolate'],\n",
       " ['Coffee', 'Plain'],\n",
       " ['Tea', 'Chocolate'],\n",
       " ['Tea', 'Plain'],\n",
       " ['Coffee', 'Chocolate'],\n",
       " ['Coffee', 'Plain'],\n",
       " ['Coffee', 'Chocolate'],\n",
       " ['Coffee', 'Plain'],\n",
       " ['Coffee', 'Plain'],\n",
       " ['Coffee', 'Plain'],\n",
       " ['Coffee', 'Plain'],\n",
       " ['Tea', 'Chocolate'],\n",
       " ['Tea', 'Plain'],\n",
       " ['Tea', 'Chocolate'],\n",
       " ['Tea', 'Plain'],\n",
       " ['Coffee', 'Chocolate'],\n",
       " ['Tea', 'Chocolate'],\n",
       " ['Tea', 'Chocolate'],\n",
       " ['Tea', 'Plain'],\n",
       " ['Tea', 'Chocolate'],\n",
       " ['Coffee', 'Plain'],\n",
       " ['Tea', 'Chocolate'],\n",
       " ['Coffee', 'Chocolate'],\n",
       " ['Tea', 'Plain'],\n",
       " ['Tea', 'Chocolate'],\n",
       " ['Tea', 'Plain'],\n",
       " ['Tea', 'Chocolate'],\n",
       " ['Tea', 'Plain'],\n",
       " ['Tea', 'Plain'],\n",
       " ['Coffee', 'Chocolate'],\n",
       " ['Coffee', 'Chocolate'],\n",
       " ['Coffee', 'Plain'],\n",
       " ['Tea', 'Chocolate'],\n",
       " ['Coffee', 'Plain'],\n",
       " ['Tea', 'Plain'],\n",
       " ['Tea', 'Plain'],\n",
       " ['Tea', 'Chocolate'],\n",
       " ['Tea', 'Plain'],\n",
       " ['Coffee', 'Plain'],\n",
       " ['Tea', 'Chocolate'],\n",
       " ['Coffee', 'Plain'],\n",
       " ['Tea', 'Chocolate'],\n",
       " ['Tea', 'Chocolate'],\n",
       " ['Tea', 'Chocolate'],\n",
       " ['Coffee', 'Chocolate'],\n",
       " ['Coffee', 'Chocolate'],\n",
       " ['Coffee', 'Plain'],\n",
       " ['Coffee', 'Chocolate'],\n",
       " ['Coffee', 'Plain'],\n",
       " ['Coffee', 'Plain'],\n",
       " ['Coffee', 'Chocolate'],\n",
       " ['Tea', 'Chocolate'],\n",
       " ['Tea', 'Chocolate'],\n",
       " ['Coffee', 'Plain'],\n",
       " ['Coffee', 'Plain'],\n",
       " ['Coffee', 'Plain'],\n",
       " ['Tea', 'Chocolate'],\n",
       " ['Coffee', 'Chocolate'],\n",
       " ['Coffee', 'Chocolate'],\n",
       " ['Tea', 'Chocolate'],\n",
       " ['Coffee', 'Chocolate'],\n",
       " ['Coffee', 'Chocolate'],\n",
       " ['Tea', 'Chocolate'],\n",
       " ['Coffee', 'Plain'],\n",
       " ['Tea', 'Plain'],\n",
       " ['Coffee', 'Chocolate'],\n",
       " ['Tea', 'Chocolate'],\n",
       " ['Tea', 'Plain'],\n",
       " ['Coffee', 'Chocolate'],\n",
       " ['Coffee', 'Chocolate'],\n",
       " ['Tea', 'Plain'],\n",
       " ['Coffee', 'Plain'],\n",
       " ['Tea', 'Plain']]"
      ]
     },
     "execution_count": 6,
     "metadata": {},
     "output_type": "execute_result"
    }
   ],
   "source": [
    "# Complie the data together \n",
    "raw_data = coffee_choc + tea_choc + Coffee_plain + tea_plain\n",
    "\n",
    "# Shuffle data to give the appearance of randomness \n",
    "random.shuffle(raw_data)\n",
    "\n",
    "raw_data\n"
   ]
  },
  {
   "cell_type": "code",
   "execution_count": 7,
   "metadata": {},
   "outputs": [
    {
     "data": {
      "text/html": [
       "<div>\n",
       "<style scoped>\n",
       "    .dataframe tbody tr th:only-of-type {\n",
       "        vertical-align: middle;\n",
       "    }\n",
       "\n",
       "    .dataframe tbody tr th {\n",
       "        vertical-align: top;\n",
       "    }\n",
       "\n",
       "    .dataframe thead th {\n",
       "        text-align: right;\n",
       "    }\n",
       "</style>\n",
       "<table border=\"1\" class=\"dataframe\">\n",
       "  <thead>\n",
       "    <tr style=\"text-align: right;\">\n",
       "      <th></th>\n",
       "      <th>Drink</th>\n",
       "      <th>Biscuit</th>\n",
       "    </tr>\n",
       "  </thead>\n",
       "  <tbody>\n",
       "    <tr>\n",
       "      <th>1</th>\n",
       "      <td>Coffee</td>\n",
       "      <td>Chocolate</td>\n",
       "    </tr>\n",
       "    <tr>\n",
       "      <th>5</th>\n",
       "      <td>Coffee</td>\n",
       "      <td>Chocolate</td>\n",
       "    </tr>\n",
       "    <tr>\n",
       "      <th>6</th>\n",
       "      <td>Coffee</td>\n",
       "      <td>Chocolate</td>\n",
       "    </tr>\n",
       "    <tr>\n",
       "      <th>7</th>\n",
       "      <td>Coffee</td>\n",
       "      <td>Chocolate</td>\n",
       "    </tr>\n",
       "    <tr>\n",
       "      <th>11</th>\n",
       "      <td>Coffee</td>\n",
       "      <td>Plain</td>\n",
       "    </tr>\n",
       "    <tr>\n",
       "      <th>...</th>\n",
       "      <td>...</td>\n",
       "      <td>...</td>\n",
       "    </tr>\n",
       "    <tr>\n",
       "      <th>191</th>\n",
       "      <td>Coffee</td>\n",
       "      <td>Plain</td>\n",
       "    </tr>\n",
       "    <tr>\n",
       "      <th>193</th>\n",
       "      <td>Coffee</td>\n",
       "      <td>Chocolate</td>\n",
       "    </tr>\n",
       "    <tr>\n",
       "      <th>196</th>\n",
       "      <td>Coffee</td>\n",
       "      <td>Chocolate</td>\n",
       "    </tr>\n",
       "    <tr>\n",
       "      <th>197</th>\n",
       "      <td>Coffee</td>\n",
       "      <td>Chocolate</td>\n",
       "    </tr>\n",
       "    <tr>\n",
       "      <th>199</th>\n",
       "      <td>Coffee</td>\n",
       "      <td>Plain</td>\n",
       "    </tr>\n",
       "  </tbody>\n",
       "</table>\n",
       "<p>100 rows × 2 columns</p>\n",
       "</div>"
      ],
      "text/plain": [
       "      Drink    Biscuit\n",
       "1    Coffee  Chocolate\n",
       "5    Coffee  Chocolate\n",
       "6    Coffee  Chocolate\n",
       "7    Coffee  Chocolate\n",
       "11   Coffee      Plain\n",
       "..      ...        ...\n",
       "191  Coffee      Plain\n",
       "193  Coffee  Chocolate\n",
       "196  Coffee  Chocolate\n",
       "197  Coffee  Chocolate\n",
       "199  Coffee      Plain\n",
       "\n",
       "[100 rows x 2 columns]"
      ]
     },
     "execution_count": 7,
     "metadata": {},
     "output_type": "execute_result"
    }
   ],
   "source": [
    "# create the data frame to perform tests on \n",
    "Drink, Biscuit =list(zip(*raw_data))\n",
    "df = pd.DataFrame({'Drink': Drink, 'Biscuit': Biscuit})\n",
    "\n",
    "# preform cross tab contingency\n",
    "ct = ss.contingency.crosstab(df['Drink'],df['Biscuit'])\n",
    "\n",
    "first,second = ct.elements\n",
    "\n",
    "df[df['Drink']==first[0]]"
   ]
  },
  {
   "cell_type": "code",
   "execution_count": 8,
   "metadata": {},
   "outputs": [
    {
     "data": {
      "text/plain": [
       "Chi2ContingencyResult(statistic=3.113937364324669, pvalue=0.07762509678333357, dof=1, expected_freq=array([[49.25373134, 50.74626866],\n",
       "       [49.74626866, 51.25373134]]))"
      ]
     },
     "execution_count": 8,
     "metadata": {},
     "output_type": "execute_result"
    }
   ],
   "source": [
    "results = ss.chi2_contingency(ct.count, correction=False)\n",
    "\n",
    "results"
   ]
  },
  {
   "cell_type": "code",
   "execution_count": 9,
   "metadata": {},
   "outputs": [
    {
     "data": {
      "text/plain": [
       "array([[49.25373134, 50.74626866],\n",
       "       [49.74626866, 51.25373134]])"
      ]
     },
     "execution_count": 9,
     "metadata": {},
     "output_type": "execute_result"
    }
   ],
   "source": [
    "results.expected_freq"
   ]
  },
  {
   "cell_type": "code",
   "execution_count": 10,
   "metadata": {},
   "outputs": [
    {
     "data": {
      "image/png": "[encoded data removed]",
      "text/plain": [
       "<Figure size 640x480 with 1 Axes>"
      ]
     },
     "metadata": {},
     "output_type": "display_data"
    }
   ],
   "source": [
    "#https://www.w3schools.com/python/matplotlib_bars.asp\n",
    "#https://stackoverflow.com/questions/20454120/how-to-remove-gaps-between-bars-in-a-bar-chart \n",
    "\n",
    "# create a bar chart to visulise the data\n",
    "xC = np.array([\"Coffee Choc\",\"Coffee Plain\"])\n",
    "xT = np.array([\"Tea Choc\",\"Tea Plain\"])\n",
    "yC = np.array([countCChoc,countCPlain])\n",
    "yT = np.array([countTChoc,CountTplain])\n",
    "colour = [\"purple\",\"lightBlue\"]\n",
    "plt.bar(xC,yC,width=1.0,color=colour)\n",
    "plt.bar(xT,yT,width=1.0,color=colour)\n",
    "plt.title('Drink andBiscuit Bar Chart (Fig 2.1)')\n",
    "plt.show()"
   ]
  },
  {
   "cell_type": "code",
   "execution_count": 11,
   "metadata": {},
   "outputs": [
    {
     "data": {
      "text/plain": [
       "3.114204911145081"
      ]
     },
     "execution_count": 11,
     "metadata": {},
     "output_type": "execute_result"
    }
   ],
   "source": [
    "# https://people.richland.edu/james/lecture/m170/tbl-chi.html\n",
    "# https://www.youtube.com/watch?v=HKDqlYSLt68\n",
    "dof = 1\n",
    "#for a 5% significance level according to the Chi Square table, result should be 3.841 or less\n",
    "Significance_level = 3.841\n",
    "\n",
    "# Manually calculate Sum of the observed values - expected values\n",
    "Chi2 = ((((43-49.254)**2)/49.254)+(((57-50.746)**2)/50.746)+(((56-49.746)**2)/49.746)+(((45-51.254)**2)/51.254))\n",
    "Chi2"
   ]
  },
  {
   "cell_type": "markdown",
   "metadata": {},
   "source": [
    "To reject the null hypothesis the value of the significane level - the actual level should be a negative number. \n",
    "Meaning the "
   ]
  },
  {
   "cell_type": "code",
   "execution_count": 12,
   "metadata": {},
   "outputs": [
    {
     "data": {
      "text/plain": [
       "0.7267950888549191"
      ]
     },
     "execution_count": 12,
     "metadata": {},
     "output_type": "execute_result"
    }
   ],
   "source": [
    "Significance_level - Chi2 "
   ]
  },
  {
   "cell_type": "code",
   "execution_count": 13,
   "metadata": {},
   "outputs": [
    {
     "name": "stdout",
     "output_type": "stream",
     "text": [
      "0.4925373134328358\n",
      "0.5074626865671642\n"
     ]
    }
   ],
   "source": [
    "print (99/201) # proportion of people who prefer chocolate, drink does not matter, \n",
    "print (102/201) # proportion of people who prefer Plain, drink does not matter, "
   ]
  },
  {
   "cell_type": "markdown",
   "metadata": {},
   "source": [
    "### Observations\n",
    "\n",
    "Although the results initially appear to suggest there is a correlation between drink type and preferred biscuit. \n",
    "There is not enough evidence to reject the null hypothesis for a five percent significance level. At a glance, Drink and Biscuit Bar Chart (Fig 2.1) might lead one to believe of an existing correlation. \n",
    "\n",
    "In this instance, for a five percent significance level, with one degree of freedom the statistic produced by the chi square test would have to be greater than 3.841. The actual statistic was found to be 3.1139, and the P value was 0.0776.\n",
    "\n",
    "This is not enough evidence to determine there is a correlation between drink and biscuit choice. \n",
    "Thus, the null hypothesis cannot be rejected for this set of data.\n"
   ]
  },
  {
   "cell_type": "markdown",
   "metadata": {},
   "source": [
    "# Create graph and argue the data shows there is a relationship between drink and bicuit "
   ]
  },
  {
   "cell_type": "markdown",
   "metadata": {},
   "source": [
    "# Task 3\n",
    "\n",
    ">Perform a t-test on the famous penguins data set to investigate whether there is evidence of a significant difference in the body mass of male and female gentoo penguins.\n",
    "\n",
    "https://raw.githubusercontent.com/mwaskom/seaborn-data/master/penguins.csv"
   ]
  },
  {
   "cell_type": "code",
   "execution_count": 14,
   "metadata": {},
   "outputs": [
    {
     "data": {
      "text/html": [
       "<div>\n",
       "<style scoped>\n",
       "    .dataframe tbody tr th:only-of-type {\n",
       "        vertical-align: middle;\n",
       "    }\n",
       "\n",
       "    .dataframe tbody tr th {\n",
       "        vertical-align: top;\n",
       "    }\n",
       "\n",
       "    .dataframe thead th {\n",
       "        text-align: right;\n",
       "    }\n",
       "</style>\n",
       "<table border=\"1\" class=\"dataframe\">\n",
       "  <thead>\n",
       "    <tr style=\"text-align: right;\">\n",
       "      <th></th>\n",
       "      <th>species</th>\n",
       "      <th>island</th>\n",
       "      <th>bill_length_mm</th>\n",
       "      <th>bill_depth_mm</th>\n",
       "      <th>flipper_length_mm</th>\n",
       "      <th>body_mass_g</th>\n",
       "      <th>sex</th>\n",
       "    </tr>\n",
       "  </thead>\n",
       "  <tbody>\n",
       "    <tr>\n",
       "      <th>0</th>\n",
       "      <td>Adelie</td>\n",
       "      <td>Torgersen</td>\n",
       "      <td>39.1</td>\n",
       "      <td>18.7</td>\n",
       "      <td>181.0</td>\n",
       "      <td>3750.0</td>\n",
       "      <td>MALE</td>\n",
       "    </tr>\n",
       "    <tr>\n",
       "      <th>1</th>\n",
       "      <td>Adelie</td>\n",
       "      <td>Torgersen</td>\n",
       "      <td>39.5</td>\n",
       "      <td>17.4</td>\n",
       "      <td>186.0</td>\n",
       "      <td>3800.0</td>\n",
       "      <td>FEMALE</td>\n",
       "    </tr>\n",
       "    <tr>\n",
       "      <th>2</th>\n",
       "      <td>Adelie</td>\n",
       "      <td>Torgersen</td>\n",
       "      <td>40.3</td>\n",
       "      <td>18.0</td>\n",
       "      <td>195.0</td>\n",
       "      <td>3250.0</td>\n",
       "      <td>FEMALE</td>\n",
       "    </tr>\n",
       "    <tr>\n",
       "      <th>3</th>\n",
       "      <td>Adelie</td>\n",
       "      <td>Torgersen</td>\n",
       "      <td>NaN</td>\n",
       "      <td>NaN</td>\n",
       "      <td>NaN</td>\n",
       "      <td>NaN</td>\n",
       "      <td>NaN</td>\n",
       "    </tr>\n",
       "    <tr>\n",
       "      <th>4</th>\n",
       "      <td>Adelie</td>\n",
       "      <td>Torgersen</td>\n",
       "      <td>36.7</td>\n",
       "      <td>19.3</td>\n",
       "      <td>193.0</td>\n",
       "      <td>3450.0</td>\n",
       "      <td>FEMALE</td>\n",
       "    </tr>\n",
       "    <tr>\n",
       "      <th>...</th>\n",
       "      <td>...</td>\n",
       "      <td>...</td>\n",
       "      <td>...</td>\n",
       "      <td>...</td>\n",
       "      <td>...</td>\n",
       "      <td>...</td>\n",
       "      <td>...</td>\n",
       "    </tr>\n",
       "    <tr>\n",
       "      <th>339</th>\n",
       "      <td>Gentoo</td>\n",
       "      <td>Biscoe</td>\n",
       "      <td>NaN</td>\n",
       "      <td>NaN</td>\n",
       "      <td>NaN</td>\n",
       "      <td>NaN</td>\n",
       "      <td>NaN</td>\n",
       "    </tr>\n",
       "    <tr>\n",
       "      <th>340</th>\n",
       "      <td>Gentoo</td>\n",
       "      <td>Biscoe</td>\n",
       "      <td>46.8</td>\n",
       "      <td>14.3</td>\n",
       "      <td>215.0</td>\n",
       "      <td>4850.0</td>\n",
       "      <td>FEMALE</td>\n",
       "    </tr>\n",
       "    <tr>\n",
       "      <th>341</th>\n",
       "      <td>Gentoo</td>\n",
       "      <td>Biscoe</td>\n",
       "      <td>50.4</td>\n",
       "      <td>15.7</td>\n",
       "      <td>222.0</td>\n",
       "      <td>5750.0</td>\n",
       "      <td>MALE</td>\n",
       "    </tr>\n",
       "    <tr>\n",
       "      <th>342</th>\n",
       "      <td>Gentoo</td>\n",
       "      <td>Biscoe</td>\n",
       "      <td>45.2</td>\n",
       "      <td>14.8</td>\n",
       "      <td>212.0</td>\n",
       "      <td>5200.0</td>\n",
       "      <td>FEMALE</td>\n",
       "    </tr>\n",
       "    <tr>\n",
       "      <th>343</th>\n",
       "      <td>Gentoo</td>\n",
       "      <td>Biscoe</td>\n",
       "      <td>49.9</td>\n",
       "      <td>16.1</td>\n",
       "      <td>213.0</td>\n",
       "      <td>5400.0</td>\n",
       "      <td>MALE</td>\n",
       "    </tr>\n",
       "  </tbody>\n",
       "</table>\n",
       "<p>344 rows × 7 columns</p>\n",
       "</div>"
      ],
      "text/plain": [
       "    species     island  bill_length_mm  bill_depth_mm  flipper_length_mm  \\\n",
       "0    Adelie  Torgersen            39.1           18.7              181.0   \n",
       "1    Adelie  Torgersen            39.5           17.4              186.0   \n",
       "2    Adelie  Torgersen            40.3           18.0              195.0   \n",
       "3    Adelie  Torgersen             NaN            NaN                NaN   \n",
       "4    Adelie  Torgersen            36.7           19.3              193.0   \n",
       "..      ...        ...             ...            ...                ...   \n",
       "339  Gentoo     Biscoe             NaN            NaN                NaN   \n",
       "340  Gentoo     Biscoe            46.8           14.3              215.0   \n",
       "341  Gentoo     Biscoe            50.4           15.7              222.0   \n",
       "342  Gentoo     Biscoe            45.2           14.8              212.0   \n",
       "343  Gentoo     Biscoe            49.9           16.1              213.0   \n",
       "\n",
       "     body_mass_g     sex  \n",
       "0         3750.0    MALE  \n",
       "1         3800.0  FEMALE  \n",
       "2         3250.0  FEMALE  \n",
       "3            NaN     NaN  \n",
       "4         3450.0  FEMALE  \n",
       "..           ...     ...  \n",
       "339          NaN     NaN  \n",
       "340       4850.0  FEMALE  \n",
       "341       5750.0    MALE  \n",
       "342       5200.0  FEMALE  \n",
       "343       5400.0    MALE  \n",
       "\n",
       "[344 rows x 7 columns]"
      ]
     },
     "execution_count": 14,
     "metadata": {},
     "output_type": "execute_result"
    }
   ],
   "source": [
    "#read url https://bobbyhadz.com/blog/read-csv-file-from-url-using-python\n",
    "url = \"https://raw.githubusercontent.com/mwaskom/seaborn-data/master/penguins.csv\"\n",
    "\n",
    "df = pd.read_csv(url,sep=',',encoding='utf-8',)\n",
    "\n",
    "df"
   ]
  },
  {
   "cell_type": "code",
   "execution_count": 15,
   "metadata": {},
   "outputs": [],
   "source": [
    "# Take just Gentoo Penguins\n",
    "allGentoo = df[df[\"species\"]==\"Gentoo\"]"
   ]
  },
  {
   "cell_type": "code",
   "execution_count": 16,
   "metadata": {},
   "outputs": [
    {
     "data": {
      "text/plain": [
       "array([5700., 5700., 5400., 5200., 5150., 5550., 5850., 5850., 6300.,\n",
       "       5350., 5700., 5050., 5100., 5650., 5550., 5250., 6050., 5400.,\n",
       "       5250., 5350., 5700., 4750., 5550., 5400., 5300., 5300., 5000.,\n",
       "       5050., 5000., 5550., 5300., 5650., 5700., 5800., 5550., 5000.,\n",
       "       5100., 5800., 6000., 5950., 5450., 5350., 5600., 5300., 5550.,\n",
       "       5400., 5650., 5200., 4925., 5250., 5600., 5500., 5500., 5500.,\n",
       "       5500., 5950., 5500., 5850., 6000., 5750., 5400.])"
      ]
     },
     "execution_count": 16,
     "metadata": {},
     "output_type": "execute_result"
    }
   ],
   "source": [
    "# Take just male gentoo for sample a\n",
    "sample_a = allGentoo[allGentoo[\"sex\"]==\"MALE\"][\"body_mass_g\"].to_numpy()\n",
    "\n",
    "sample_a"
   ]
  },
  {
   "cell_type": "code",
   "execution_count": 17,
   "metadata": {},
   "outputs": [
    {
     "data": {
      "text/plain": [
       "array([4500., 4450., 4550., 4800., 4400., 4650., 4650., 4200., 4150.,\n",
       "       4800., 5000., 4400., 5000., 4600., 4700., 5050., 5150., 4950.,\n",
       "       4350., 3950., 4300., 4900., 4200., 5100., 4850., 4400., 4900.,\n",
       "       4300., 4450., 4200., 4400., 4700., 4700., 4750., 5200., 4700.,\n",
       "       4600., 4750., 4625., 4725., 4750., 4600., 4875., 4950., 4750.,\n",
       "       4850., 4875., 4625., 4850., 4975., 4700., 4575., 5000., 4650.,\n",
       "       4375., 4925., 4850., 5200.])"
      ]
     },
     "execution_count": 17,
     "metadata": {},
     "output_type": "execute_result"
    }
   ],
   "source": [
    "# Take just females for sample b\n",
    "sample_b = allGentoo[allGentoo[\"sex\"]==\"FEMALE\"][\"body_mass_g\"].to_numpy()\n",
    "\n",
    "sample_b"
   ]
  },
  {
   "cell_type": "code",
   "execution_count": 18,
   "metadata": {},
   "outputs": [
    {
     "data": {
      "text/plain": [
       "Ttest_indResult(statistic=14.721676481405709, pvalue=2.133687602018886e-28)"
      ]
     },
     "execution_count": 18,
     "metadata": {},
     "output_type": "execute_result"
    }
   ],
   "source": [
    "#https://www.southampton.ac.uk/passs/gcse_scores/bivariate_analysis/t_test.page#:~:text=If%20a%20p%2Dvalue%20reported,then%20the%20result%20is%20insignificant.\n",
    "# run t-test\n",
    "ss.ttest_ind(sample_a,sample_b)  "
   ]
  },
  {
   "cell_type": "code",
   "execution_count": 19,
   "metadata": {},
   "outputs": [
    {
     "data": {
      "image/png": "[encoded data removed]",
      "text/plain": [
       "<Figure size 640x480 with 1 Axes>"
      ]
     },
     "metadata": {},
     "output_type": "display_data"
    }
   ],
   "source": [
    "# https://www.geeksforgeeks.org/how-to-plot-two-histograms-together-in-matplotlib/ \n",
    "\n",
    "# Create a histogram to visulise the difference in the data sets for male and female\n",
    "plt.hist(sample_a, label=\"MALE\",alpha=.8,edgecolor=\"Black\")\n",
    "plt.hist(sample_b,label=\"FEMALE\",alpha=.6,edgecolor=\"Black\")\n",
    "plt.legend()\n",
    "plt.title('Male v female Gentoo Body mass(Fig 3.1)')\n",
    "plt.show() "
   ]
  },
  {
   "cell_type": "markdown",
   "metadata": {},
   "source": [
    "### Obersrvations \n",
    "\n",
    "This test is to investigate if there is a discrepancy in the body mass difference between Male and Female Gentoo penguins.\n",
    "Using the T-Test we can see the P value is approximately 2.133e-28. This is a quite small number. \n",
    "\n",
    "For the P value to suggest there is enough evidence to show there is a substantial difference in the mean of the body masses of both Male and Female Gentoo Penguins the P value would have to be less than 0.05 This would give us a 95% confidence in the distinguish between both sexes. \n",
    "\n",
    "As we have received a p value of approximately 2.133e-28 this confirms the null hypothesis can be rejected, and evidence shows there is a difference in this data. This difference can be visualised in Male v female Gentoo Body mass (Fig 3.1).\n",
    "There is a small overlap for larger females and smaller males, but it can be noted there is some distance between the mean of both Male and Female penguins. Confirming the rejection of the null hypothesis theory and suggesting the difference between the sexes. \n"
   ]
  },
  {
   "cell_type": "markdown",
   "metadata": {},
   "source": []
  }
 ],
 "metadata": {
  "kernelspec": {
   "display_name": "base",
   "language": "python",
   "name": "python3"
  },
  "language_info": {
   "codemirror_mode": {
    "name": "ipython",
    "version": 3
   },
   "file_extension": ".py",
   "mimetype": "text/x-python",
   "name": "python",
   "nbconvert_exporter": "python",
   "pygments_lexer": "ipython3",
   "version": "3.11.4"
  },
  "orig_nbformat": 4
 },
 "nbformat": 4,
 "nbformat_minor": 2
}
