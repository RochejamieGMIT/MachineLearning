{
 "cells": [
  {
   "cell_type": "markdown",
   "metadata": {},
   "source": [
    "# Tasks\n",
    "\n",
    "Machine Learning and Statistics\n",
    "\n",
    "winter 23/24\n",
    "\n",
    "Jamie Roche\n",
    "***"
   ]
  },
  {
   "cell_type": "markdown",
   "metadata": {},
   "source": [
    "### Task 1\n",
    "\n",
    " > Square roots are difficult to calculate. In Python, you typically\n",
    "use the power operator (a double asterisk) or a package such\n",
    "as `math`. In this task,1 you should write a function `sqrt(x)` to\n",
    "approximate the square root of a floating point number x without\n",
    "using the power operator or a package\n",
    ">\n",
    "> Rather, you should use the Newton’s method. Start with initial guess for the square root called `z0`. You then repeatedly improve it using the following formula, until the difference between\n",
    "some previous guess zi and the next zi+1 is less than some\n",
    "threshold, say `0.01`.\n",
    "\n",
    "\n",
    "\n",
    " ####  <p style=\"text-align: center;\"> z<sub>i+1</sub>  = $ z_i − \\frac{z_i \\times z_i - x}{2z_i}$ </p>\n",
    "\n",
    "~~ https://csrgxtu.github.io/2015/03/20/Writing-Mathematic-Fomulars-in-Markdown/\n",
    "\n",
    "~~ https://docs.document360.com/docs/how-to-center-align-the-text-in-markdown"
   ]
  },
  {
   "cell_type": "code",
   "execution_count": null,
   "metadata": {},
   "outputs": [],
   "source": [
    "def sqrt(x):\n",
    "    # inital guess\n",
    "    z = x/4.0\n",
    "\n",
    "    # loop until reasonable accurate guess is achieved \n",
    "    \n",
    "    while ((z*z-x)>0.000000001):\n",
    "        \n",
    "        z = z - (((z*z)-x)/(2*z))\n",
    "\n",
    "    return z"
   ]
  },
  {
   "cell_type": "code",
   "execution_count": null,
   "metadata": {},
   "outputs": [],
   "source": [
    "# Test Function \n",
    "num = 90\n",
    "y = sqrt(num)\n",
    "y"
   ]
  },
  {
   "cell_type": "code",
   "execution_count": null,
   "metadata": {},
   "outputs": [],
   "source": [
    "# compare differnece between python and newtons \n",
    "\n",
    "abs((num**0.5)-y)\n"
   ]
  },
  {
   "cell_type": "markdown",
   "metadata": {},
   "source": [
    "End Task 1 - Improve answer later "
   ]
  }
 ],
 "metadata": {
  "kernelspec": {
   "display_name": "base",
   "language": "python",
   "name": "python3"
  },
  "language_info": {
   "codemirror_mode": {
    "name": "ipython",
    "version": 3
   },
   "file_extension": ".py",
   "mimetype": "text/x-python",
   "name": "python",
   "nbconvert_exporter": "python",
   "pygments_lexer": "ipython3",
   "version": "3.11.4"
  },
  "orig_nbformat": 4
 },
 "nbformat": 4,
 "nbformat_minor": 2
}
